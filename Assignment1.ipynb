{
 "cells": [
  {
   "cell_type": "code",
   "execution_count": 3,
   "id": "b359569d-9186-45a5-a16a-a44338612d84",
   "metadata": {},
   "outputs": [
    {
     "name": "stdin",
     "output_type": "stream",
     "text": [
      "Enter Question How is memory managed in Python?\n"
     ]
    },
    {
     "name": "stdout",
     "output_type": "stream",
     "text": [
      "In Python, memory management is handled automatically by the Python memory manager, which is part of the Python interpreter.\n"
     ]
    }
   ],
   "source": [
    "q = (input(\"Enter Question\"))\n",
    "\n",
    "if q == \"Who develop python programming language?\":\n",
    "    print(\"Guido van Rossum\")\n",
    "elif q == \"which type of programming dose python support?\":\n",
    "    print(\"Python supports both object-oriented and procedural programming\")\n",
    "elif q == \"Is python is case sensitive when dealing with identifiers?\":\n",
    "    print(\"Yes\")\n",
    "elif q == \"What is the correct extension of the python profile?\":\n",
    "    print(\"py is the correct extension of the Python file\")\n",
    "elif q == \"Is python code is compliled or interpreted?\":\n",
    "    print(\"interpreted\")\n",
    "elif q == \"Name a few blocks of code used to defin in python language?\":\n",
    "    print(\"Function definition, Control structures, Classes, Compound statements\")\n",
    "elif q == \"State a character used to give single-line comments in Python?\":\n",
    "    print(\"In Python, the hash symbol (#) is used to give single-line comments\")\n",
    "elif q == \"Mention functions which can help us to find the version of python that we are currently working on?\":\n",
    "    print(\"sys.version, sys.version_info, platform.python_version\")\n",
    "elif q == 'Python supports the creation of anonymous functions at runtime, using a construct called':\n",
    "    print('lambda functions')\n",
    "elif q == 'What does pip stand for python?':\n",
    "    print('Pip Installs Packages')\n",
    "elif q == 'Mention a few built-in functions in python?':\n",
    "    print('print, len, sum, max, min, sorted, abs, int, float, str')\n",
    "elif q == 'What is the maximum possible length of an identifier in Python?':\n",
    "    print('In Python, there is no strict limit to the length of an identifier')\n",
    "elif q == 'What are the benefits of using Python?':\n",
    "    print('Easy to learn and use, Versatile, Large community and ecosystem, Cross-platform compatibility, High-level language')\n",
    "elif q == 'How is memory managed in Python?':\n",
    "    print('In Python, memory management is handled automatically by the Python memory manager, which is part of the Python interpreter.')\n",
    "elif q == 'Is indentation required in python?':\n",
    "    print('Yes, indentation is required in Python')\n",
    "else :\n",
    "    print('Unavailable')"
   ]
  },
  {
   "cell_type": "code",
   "execution_count": null,
   "id": "606945b2-f7c8-4400-98ad-41c15131bd55",
   "metadata": {},
   "outputs": [],
   "source": []
  }
 ],
 "metadata": {
  "kernelspec": {
   "display_name": "Python 3 (ipykernel)",
   "language": "python",
   "name": "python3"
  },
  "language_info": {
   "codemirror_mode": {
    "name": "ipython",
    "version": 3
   },
   "file_extension": ".py",
   "mimetype": "text/x-python",
   "name": "python",
   "nbconvert_exporter": "python",
   "pygments_lexer": "ipython3",
   "version": "3.10.8"
  }
 },
 "nbformat": 4,
 "nbformat_minor": 5
}
